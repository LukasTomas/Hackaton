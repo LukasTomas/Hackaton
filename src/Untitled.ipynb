{
 "cells": [
  {
   "cell_type": "code",
   "execution_count": 3,
   "id": "e7673547-83c8-43c5-a87e-60a6109ee136",
   "metadata": {},
   "outputs": [],
   "source": [
    "import hyperparams\n",
    "import pandas as pd"
   ]
  },
  {
   "cell_type": "code",
   "execution_count": 4,
   "id": "0e6bad12-1fd3-4dca-8eaf-536cd2c20ec1",
   "metadata": {},
   "outputs": [
    {
     "name": "stderr",
     "output_type": "stream",
     "text": [
      "C:\\Users\\lukáš\\AppData\\Local\\Temp\\ipykernel_11912\\998243450.py:7: SettingWithCopyWarning: \n",
      "A value is trying to be set on a copy of a slice from a DataFrame.\n",
      "Try using .loc[row_indexer,col_indexer] = value instead\n",
      "\n",
      "See the caveats in the documentation: https://pandas.pydata.org/pandas-docs/stable/user_guide/indexing.html#returning-a-view-versus-a-copy\n",
      "  games['Spread'] = games.apply(compute_spread, axis=1)\n"
     ]
    }
   ],
   "source": [
    "def compute_spread(row):\n",
    "    inverse_first = 1/row['OddsH']\n",
    "    inverse_second = 1/row['OddsA']\n",
    "    return (inverse_first + inverse_second) - 1\n",
    "\n",
    "games = hyperparams.games[['OddsH', 'OddsA']]\n",
    "games['Spread'] = games.apply(compute_spread, axis=1)\n"
   ]
  },
  {
   "cell_type": "code",
   "execution_count": 8,
   "id": "5ba57aba-83e4-488b-bbbe-7bfb16df201a",
   "metadata": {},
   "outputs": [
    {
     "data": {
      "text/plain": [
       "count    28990.000000\n",
       "mean         0.054061\n",
       "std          0.011225\n",
       "min          0.019843\n",
       "25%          0.046417\n",
       "50%          0.055997\n",
       "75%          0.063323\n",
       "max          0.069999\n",
       "Name: Spread, dtype: float64"
      ]
     },
     "execution_count": 8,
     "metadata": {},
     "output_type": "execute_result"
    }
   ],
   "source": [
    "games['Spread'].describe()"
   ]
  }
 ],
 "metadata": {
  "kernelspec": {
   "display_name": "Python 3 (ipykernel)",
   "language": "python",
   "name": "python3"
  },
  "language_info": {
   "codemirror_mode": {
    "name": "ipython",
    "version": 3
   },
   "file_extension": ".py",
   "mimetype": "text/x-python",
   "name": "python",
   "nbconvert_exporter": "python",
   "pygments_lexer": "ipython3",
   "version": "3.8.5"
  }
 },
 "nbformat": 4,
 "nbformat_minor": 5
}
